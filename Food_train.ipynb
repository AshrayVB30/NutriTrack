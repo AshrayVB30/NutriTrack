{
 "cells": [
  {
   "cell_type": "markdown",
   "metadata": {},
   "source": [
    "> Developling the model to predict the nutrition which contains(calories, proteins, and carbs) of food items on their names, enabling user t easily track their deotry intake."
   ]
  },
  {
   "cell_type": "markdown",
   "metadata": {},
   "source": [
    "* Data preprocessing\n",
    "* Text vectorization using TF-IDF(Term Frequency-Inverse Document Frequency)\n",
    "* Model training using Linear Regression or Random Forest\n",
    "* Model evaluation and prediction"
   ]
  },
  {
   "cell_type": "markdown",
   "metadata": {},
   "source": [
    "> Installing required libraries\n"
   ]
  },
  {
   "cell_type": "code",
   "execution_count": null,
   "metadata": {},
   "outputs": [],
   "source": [
    "%pip install numpy pandas scikit-learn"
   ]
  },
  {
   "cell_type": "markdown",
   "metadata": {},
   "source": [
    "> Step-1: Import required Libraries"
   ]
  },
  {
   "cell_type": "code",
   "execution_count": 4,
   "metadata": {},
   "outputs": [],
   "source": [
    "import pandas as pd\n",
    "import numpy as np\n",
    "from sklearn.feature_extraction.text import TfidfVectorizer\n",
    "from sklearn.model_selection import train_test_split\n",
    "from sklearn.ensemble import RandomForestRegressor\n",
    "from sklearn.metrics import mean_squared_error\n",
    "from sklearn.metrics import r2_score"
   ]
  },
  {
   "cell_type": "markdown",
   "metadata": {},
   "source": [
    "> Step-2: Loading the dataset "
   ]
  },
  {
   "cell_type": "code",
   "execution_count": 5,
   "metadata": {},
   "outputs": [
    {
     "data": {
      "text/html": [
       "<div>\n",
       "<style scoped>\n",
       "    .dataframe tbody tr th:only-of-type {\n",
       "        vertical-align: middle;\n",
       "    }\n",
       "\n",
       "    .dataframe tbody tr th {\n",
       "        vertical-align: top;\n",
       "    }\n",
       "\n",
       "    .dataframe thead th {\n",
       "        text-align: right;\n",
       "    }\n",
       "</style>\n",
       "<table border=\"1\" class=\"dataframe\">\n",
       "  <thead>\n",
       "    <tr style=\"text-align: right;\">\n",
       "      <th></th>\n",
       "      <th>Food Item</th>\n",
       "      <th>Calories (kcal)</th>\n",
       "      <th>Proteins (g)</th>\n",
       "      <th>Carbs (g)</th>\n",
       "      <th>Food Type</th>\n",
       "      <th>Tags</th>\n",
       "    </tr>\n",
       "  </thead>\n",
       "  <tbody>\n",
       "    <tr>\n",
       "      <th>0</th>\n",
       "      <td>Roti (Whole Wheat)</td>\n",
       "      <td>130</td>\n",
       "      <td>4.2</td>\n",
       "      <td>24.5</td>\n",
       "      <td>Vegetarian</td>\n",
       "      <td>Low Calories, High Carbs</td>\n",
       "    </tr>\n",
       "    <tr>\n",
       "      <th>1</th>\n",
       "      <td>Paratha</td>\n",
       "      <td>260</td>\n",
       "      <td>5.5</td>\n",
       "      <td>36.0</td>\n",
       "      <td>Vegetarian</td>\n",
       "      <td>High Calories, High Carbs</td>\n",
       "    </tr>\n",
       "    <tr>\n",
       "      <th>2</th>\n",
       "      <td>Biryani (Chicken)</td>\n",
       "      <td>290</td>\n",
       "      <td>11.0</td>\n",
       "      <td>34.0</td>\n",
       "      <td>Omnivores</td>\n",
       "      <td>High Protein, High Calories</td>\n",
       "    </tr>\n",
       "    <tr>\n",
       "      <th>3</th>\n",
       "      <td>Dosa</td>\n",
       "      <td>168</td>\n",
       "      <td>4.5</td>\n",
       "      <td>31.0</td>\n",
       "      <td>Vegetarian</td>\n",
       "      <td>High Carbs</td>\n",
       "    </tr>\n",
       "    <tr>\n",
       "      <th>4</th>\n",
       "      <td>Idli</td>\n",
       "      <td>130</td>\n",
       "      <td>3.2</td>\n",
       "      <td>28.0</td>\n",
       "      <td>Vegetarian</td>\n",
       "      <td>Low Calories, High Carbs</td>\n",
       "    </tr>\n",
       "  </tbody>\n",
       "</table>\n",
       "</div>"
      ],
      "text/plain": [
       "            Food Item  Calories (kcal)  Proteins (g)  Carbs (g)   Food Type  \\\n",
       "0  Roti (Whole Wheat)              130           4.2       24.5  Vegetarian   \n",
       "1             Paratha              260           5.5       36.0  Vegetarian   \n",
       "2   Biryani (Chicken)              290          11.0       34.0   Omnivores   \n",
       "3                Dosa              168           4.5       31.0  Vegetarian   \n",
       "4                Idli              130           3.2       28.0  Vegetarian   \n",
       "\n",
       "                          Tags  \n",
       "0     Low Calories, High Carbs  \n",
       "1    High Calories, High Carbs  \n",
       "2  High Protein, High Calories  \n",
       "3                   High Carbs  \n",
       "4     Low Calories, High Carbs  "
      ]
     },
     "execution_count": 5,
     "metadata": {},
     "output_type": "execute_result"
    }
   ],
   "source": [
    "# Load the dataset\n",
    "data = pd.read_csv('food_nutrition.csv')\n",
    "\n",
    "# display \n",
    "data.head()"
   ]
  },
  {
   "cell_type": "markdown",
   "metadata": {},
   "source": [
    "> Step-3: Preprocessing the Data"
   ]
  },
  {
   "cell_type": "code",
   "execution_count": 6,
   "metadata": {},
   "outputs": [],
   "source": [
    "# Define feature (Food Item) and target variables (Calories, Proteins, Carbs)\n",
    "X = data['Food Item']\n",
    "Y = data[['Calories (kcal)', 'Proteins (g)', 'Carbs (g)']]\n",
    "\n",
    "# Split data into training and testing sets (80% train, 20% test)\n",
    "X_train, X_test, Y_train, Y_test = train_test_split(X, Y, test_size=0.2, random_state=42)\n",
    "\n",
    "# Convert text data into numerical features using TF-IDF Vectorizer\n",
    "vectorize = TfidfVectorizer()\n",
    "X_train_tfidf = vectorize.fit_transform(X_train)\n",
    "X_test_tfidf = vectorize.transform(X_test)"
   ]
  },
  {
   "cell_type": "markdown",
   "metadata": {},
   "source": [
    "> Step-4: Model Training (Random Forest Regressor)"
   ]
  },
  {
   "cell_type": "code",
   "execution_count": 7,
   "metadata": {},
   "outputs": [],
   "source": [
    "# Train a Random Forest Regressor\n",
    "model = RandomForestRegressor(n_estimators=100, random_state=42)\n",
    "model.fit(X_train_tfidf, Y_train)\n",
    "\n",
    "# Make predictions on the test set\n",
    "Y_pred = model.predict(X_test_tfidf)"
   ]
  },
  {
   "cell_type": "markdown",
   "metadata": {},
   "source": [
    "> Step-5: Model Evalution"
   ]
  },
  {
   "cell_type": "code",
   "execution_count": 8,
   "metadata": {},
   "outputs": [
    {
     "name": "stdout",
     "output_type": "stream",
     "text": [
      "Model Evaluation\n",
      "Root Mean Squared Error(RMSE): 44.28068977915159\n",
      "R-Squared(R2): 0.24809326025154488\n"
     ]
    }
   ],
   "source": [
    "# Evalution the model using R-squared and RMSE\n",
    "mse = mean_squared_error(Y_test, Y_pred)\n",
    "rmse = np.sqrt(mse)\n",
    "r2 = r2_score(Y_test, Y_pred)\n",
    "\n",
    "print(f'Model Evaluation')\n",
    "print(f'Root Mean Squared Error(RMSE): {rmse}')\n",
    "print(f'R-Squared(R2): {r2}')"
   ]
  },
  {
   "cell_type": "markdown",
   "metadata": {},
   "source": [
    "\n",
    "> Step-6: Prediction Function"
   ]
  },
  {
   "cell_type": "code",
   "execution_count": 9,
   "metadata": {},
   "outputs": [
    {
     "name": "stdout",
     "output_type": "stream",
     "text": [
      "\n",
      "✅ Nutrition values for \"Dosa\":\n",
      "   Calories (kcal)  Proteins (g)  Carbs (g)\n",
      "0              168           4.5       31.0\n"
     ]
    }
   ],
   "source": [
    "# Prediction function with exact match lookup (No fallback prediction)\n",
    "def predict_nutrition(food_item):\n",
    "    # Check if the food item exists in the dataset\n",
    "    if food_item in data['Food Item'].values:\n",
    "        # Fetch exact values if found\n",
    "        exact_match = data[data['Food Item'] == food_item]\n",
    "        return exact_match[[\"Calories (kcal)\", \"Proteins (g)\", \"Carbs (g)\"]].reset_index(drop=True)\n",
    "    \n",
    "    else:\n",
    "        # If no exact match is found, return None\n",
    "        print(f\"\\n🚫 No exact match found for '{food_item}'.\")\n",
    "        return None\n",
    "\n",
    "# Get manual input from the user\n",
    "food_item_input = input(\"🍲 Enter the food item: \")\n",
    "\n",
    "# Predict nutritional values for the entered food item\n",
    "predicted_nutrition = predict_nutrition(food_item_input)\n",
    "\n",
    "# Display the result\n",
    "if predicted_nutrition is not None:\n",
    "    print(f'\\n✅ Nutrition values for \"{food_item_input}\":')\n",
    "    print(predicted_nutrition)\n",
    "else:\n",
    "    print(f'\\n⚠️ No nutritional information available for \"{food_item_input}\".')"
   ]
  },
  {
   "cell_type": "markdown",
   "metadata": {},
   "source": [
    "> Step 7: Save the Model for Future Use"
   ]
  },
  {
   "cell_type": "code",
   "execution_count": null,
   "metadata": {},
   "outputs": [],
   "source": [
    "import joblib\n",
    "\n",
    "# Save the trained model and vectorizer\n",
    "joblib.dump(model, \"nutrition_model.csv\")\n",
    "joblib.dump(vectorize, \"tfidf_vectorizer.csv\")\n",
    "\n",
    "print(\"Model and vectorizer saved successfully!\")"
   ]
  },
  {
   "cell_type": "markdown",
   "metadata": {},
   "source": [
    "> Step-8: Load and Use the Savede model"
   ]
  },
  {
   "cell_type": "code",
   "execution_count": null,
   "metadata": {},
   "outputs": [],
   "source": [
    "# Load the saved model and vectorizer\n",
    "loaded_model = joblib.load(\"nutrition_model.pkl\")\n",
    "loaded_vectorizer = joblib.load(\"tfidf_vectorizer.pkl\")\n",
    "\n",
    "# Predict using the loaded model\n",
    "food_item_new = \"Chicken Biryani\"\n",
    "food_tfidf_new = loaded_vectorizer.transform([food_item_new])\n",
    "prediction_new = loaded_model.predict(food_tfidf_new)\n",
    "\n",
    "print(f\"Predicted nutrition for {food_item_new}:\")\n",
    "print(pd.DataFrame(prediction_new, columns=[\"Calories (kcal)\", \"Proteins (g)\", \"Carbs (g)\"]))"
   ]
  },
  {
   "cell_type": "markdown",
   "metadata": {},
   "source": []
  }
 ],
 "metadata": {
  "kernelspec": {
   "display_name": "Python39",
   "language": "python",
   "name": "python3"
  },
  "language_info": {
   "codemirror_mode": {
    "name": "ipython",
    "version": 3
   },
   "file_extension": ".py",
   "mimetype": "text/x-python",
   "name": "python",
   "nbconvert_exporter": "python",
   "pygments_lexer": "ipython3",
   "version": "3.9.19"
  }
 },
 "nbformat": 4,
 "nbformat_minor": 2
}
